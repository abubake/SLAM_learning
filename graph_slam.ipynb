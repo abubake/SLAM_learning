{
 "cells": [
  {
   "cell_type": "code",
   "execution_count": 3,
   "metadata": {},
   "outputs": [],
   "source": [
    "import copy\n",
    "import math\n",
    "import itertools\n",
    "import numpy as np\n",
    "import matplotlib.pyplot as plt\n",
    "from graph_based_slam import calc_3d_rotational_matrix, calc_jacobian, cal_observation_sigma, \\\n",
    "                             calc_input, observation, motion_model, Edge, pi_2_pi\n",
    "\n",
    "%matplotlib inline\n",
    "np.set_printoptions(precision=3, suppress=True)\n",
    "np.random.seed(0)"
   ]
  },
  {
   "cell_type": "markdown",
   "metadata": {},
   "source": [
    "# 1D Robot Movement\n",
    "Our robot is on a line, with a control input $u_t$ of 1 meter forward. However, the motion is not ideal, and will vary. At teach timestep $t$ a sensor measurement is taken. There exists one landmark in our \"map\" at $x=3m$. At each timestep, the measurement we take is the range/distance to the landmark, which we recieve with noise."
   ]
  },
  {
   "cell_type": "markdown",
   "metadata": {},
   "source": [
    "To Solve for where we are in the \"map\" (on the line), we define two quantities, the system information matrix and the information vector, $H$ and $b$ respectively. We determine what these should be based on our control input and measurement at each timestep."
   ]
  },
  {
   "cell_type": "code",
   "execution_count": 9,
   "metadata": {},
   "outputs": [],
   "source": [
    "R = 0.2\n",
    "Q = 0.2\n",
    "N = 3\n",
    "graphics_radius = 0.1\n",
    "\n",
    "# Defining arrays of odometry (where we estimate we have moved to based on something like IMU), the measurement (obs) and the true position on the line.\n",
    "odom = np.empty((N,1))\n",
    "obs = np.empty((N,1))\n",
    "x_true = np.empty((N,1))\n",
    "\n",
    "landmark = 3\n"
   ]
  },
  {
   "cell_type": "code",
   "execution_count": 10,
   "metadata": {},
   "outputs": [],
   "source": [
    "# Simulated readings of odometry and observations\n",
    "x_true[0], odom[0], obs[0] = 0.0, 0.0, 2.9\n",
    "x_true[1], odom[1], obs[1] = 1.0, 1.5, 2.0\n",
    "x_true[2], odom[2], obs[2] = 2.0, 2.4, 1.0\n",
    "\n",
    "hxDR = copy.deepcopy(odom)\n"
   ]
  },
  {
   "cell_type": "markdown",
   "metadata": {},
   "source": [
    "# Plotting\n",
    "\n",
    "x in green is our true position on the line, having moved exactly one each time. Blue is what we get from our odometry, and the red is our measurement of where we think the feature at 3m is, we get its position by adding our odometry with the measurement from our position."
   ]
  },
  {
   "cell_type": "code",
   "execution_count": 11,
   "metadata": {},
   "outputs": [
    {
     "data": {
      "image/png": "[encoded data removed]",
      "text/plain": [
       "<Figure size 640x480 with 1 Axes>"
      ]
     },
     "metadata": {},
     "output_type": "display_data"
    }
   ],
   "source": [
    "# Visualization\n",
    "plt.plot(landmark,0, '*k', markersize=30)\n",
    "for i in range(N):\n",
    "    plt.plot(odom[i], 0, '.', markersize=50, alpha=0.8, color='steelblue')\n",
    "    plt.plot([odom[i], odom[i] + graphics_radius],\n",
    "             [0,0], 'r')\n",
    "    plt.text(odom[i], 0.02, \"X_{}\".format(i), fontsize=12)\n",
    "    plt.plot(obs[i]+odom[i],0,'.', markersize=25, color='brown')\n",
    "    plt.plot(x_true[i],0,'.g', markersize=20)\n",
    "plt.grid()\n",
    "plt.show()"
   ]
  },
  {
   "cell_type": "code",
   "execution_count": 15,
   "metadata": {},
   "outputs": [
    {
     "data": {
      "text/plain": [
       "[(0, 1), (0, 2), (1, 2)]"
      ]
     },
     "execution_count": 15,
     "metadata": {},
     "output_type": "execute_result"
    }
   ],
   "source": [
    "list(itertools.combinations(range(N),2))"
   ]
  },
  {
   "cell_type": "code",
   "execution_count": 12,
   "metadata": {},
   "outputs": [],
   "source": [
    "# Defined as a function to facilitate iteration\n",
    "def get_H_b(odom, obs):\n",
    "    \"\"\"\n",
    "    Create the information matrix and information vector. This implementation is\n",
    "    based on the concept of virtual measurement i.e. the observations of the\n",
    "    landmarks are converted into constraints (edges) between the nodes that\n",
    "    have observed this landmark.\n",
    "    \"\"\"\n",
    "    measure_constraints = {}\n",
    "    omegas = {}\n",
    "    zids = list(itertools.combinations(range(N),2)) # creates a list of N tuples of every combination of 0,1,2, where order doesn't matter\n",
    "    H = np.zeros((N,N))\n",
    "    b = np.zeros((N,1))\n",
    "    for (t1, t2) in zids: # this is used such that we can have the correct indexes easily for are current and next odom and obs values\n",
    "        x1 = odom[t1]\n",
    "        x2 = odom[t2]\n",
    "        z1 = obs[t1]\n",
    "        z2 = obs[t2]\n",
    "\n",
    "        # Adding virtual measurement constraint\n",
    "        measure_constraints[(t1,t2)] = (x2-x1-z1+z2)\n",
    "        omegas[(t1,t2)] = (1 / (2*Q))\n",
    "\n",
    "        # populate system's information matrix and vector\n",
    "        H[t1,t1] += omegas[(t1,t2)]\n",
    "        H[t2,t2] += omegas[(t1,t2)]\n",
    "        H[t2,t1] -= omegas[(t1,t2)]\n",
    "        H[t1,t2] -= omegas[(t1,t2)]\n",
    "\n",
    "        b[t1] += omegas[(t1,t2)] * measure_constraints[(t1,t2)]\n",
    "        b[t2] -= omegas[(t1,t2)] * measure_constraints[(t1,t2)]\n",
    "\n",
    "    return H, b"
   ]
  },
  {
   "cell_type": "code",
   "execution_count": 16,
   "metadata": {},
   "outputs": [
    {
     "name": "stdout",
     "output_type": "stream",
     "text": [
      "The determinant of H:  0.0\n",
      "The determinant of H after anchoring constraint:  18.750000000000007\n"
     ]
    }
   ],
   "source": [
    "H, b = get_H_b(odom, obs)\n",
    "print(\"The determinant of H: \", np.linalg.det(H))\n",
    "H[0,0] += 1 # np.inf ?\n",
    "print(\"The determinant of H after anchoring constraint: \", np.linalg.det(H))"
   ]
  },
  {
   "cell_type": "code",
   "execution_count": 17,
   "metadata": {},
   "outputs": [
    {
     "name": "stdout",
     "output_type": "stream",
     "text": [
      "Running graphSLAM ...\n",
      "Odometry values after optimzation: \n",
      " [[-0. ]\n",
      " [ 0.9]\n",
      " [ 1.9]]\n"
     ]
    }
   ],
   "source": [
    "for i in range(5):\n",
    "    H, b = get_H_b(odom, obs)\n",
    "    H[(0,0)] += 1\n",
    "\n",
    "    # Recover the posterior over the path\n",
    "    dx = np.linalg.inv(H) @ b\n",
    "    odom += dx\n",
    "    # repeat till convergence\n",
    "print(\"Running graphSLAM ...\")\n",
    "print(\"Odometry values after optimzation: \\n\", odom)"
   ]
  },
  {
   "cell_type": "code",
   "execution_count": 18,
   "metadata": {},
   "outputs": [
    {
     "data": {
      "image/png": "[encoded data removed]",
      "text/plain": [
       "<Figure size 640x480 with 1 Axes>"
      ]
     },
     "metadata": {},
     "output_type": "display_data"
    }
   ],
   "source": [
    "plt.figure()\n",
    "plt.plot(x_true, np.zeros(x_true.shape), '.', markersize=20, label='Ground truth')\n",
    "plt.plot(odom, np.zeros(x_true.shape), '.', markersize=20, label='Estimation')\n",
    "plt.plot(hxDR, np.zeros(x_true.shape), '.', markersize=20, label='Odom')\n",
    "plt.legend()\n",
    "plt.grid()\n",
    "plt.show()"
   ]
  }
 ],
 "metadata": {
  "kernelspec": {
   "display_name": "base",
   "language": "python",
   "name": "python3"
  },
  "language_info": {
   "codemirror_mode": {
    "name": "ipython",
    "version": 3
   },
   "file_extension": ".py",
   "mimetype": "text/x-python",
   "name": "python",
   "nbconvert_exporter": "python",
   "pygments_lexer": "ipython3",
   "version": "3.11.5"
  }
 },
 "nbformat": 4,
 "nbformat_minor": 2
}
